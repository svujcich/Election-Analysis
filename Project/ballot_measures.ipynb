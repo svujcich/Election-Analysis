{
 "cells": [
  {
   "cell_type": "markdown",
   "id": "984f7e3e",
   "metadata": {},
   "source": [
    "## Ballot Measure Data\n",
    "##### using pandas and random libaries to simulate ballot measure votes "
   ]
  },
  {
   "cell_type": "code",
   "execution_count": 1,
   "id": "3a3e676f",
   "metadata": {},
   "outputs": [],
   "source": [
    "#imports\n",
    "import os\n",
    "import pandas as pd\n",
    "import random"
   ]
  },
  {
   "cell_type": "code",
   "execution_count": 2,
   "id": "53fae0bc",
   "metadata": {},
   "outputs": [],
   "source": [
    "file_path = os.path.join('.','Resources','votes.csv')"
   ]
  },
  {
   "cell_type": "code",
   "execution_count": 3,
   "id": "ffa97843",
   "metadata": {},
   "outputs": [],
   "source": [
    "voting_data = pd.read_csv(file_path)"
   ]
  },
  {
   "cell_type": "code",
   "execution_count": 4,
   "id": "be87e2dd",
   "metadata": {},
   "outputs": [
    {
     "data": {
      "text/html": [
       "<div>\n",
       "<style scoped>\n",
       "    .dataframe tbody tr th:only-of-type {\n",
       "        vertical-align: middle;\n",
       "    }\n",
       "\n",
       "    .dataframe tbody tr th {\n",
       "        vertical-align: top;\n",
       "    }\n",
       "\n",
       "    .dataframe thead th {\n",
       "        text-align: right;\n",
       "    }\n",
       "</style>\n",
       "<table border=\"1\" class=\"dataframe\">\n",
       "  <thead>\n",
       "    <tr style=\"text-align: right;\">\n",
       "      <th></th>\n",
       "      <th>Ballot ID</th>\n",
       "      <th>County</th>\n",
       "      <th>Candidate</th>\n",
       "    </tr>\n",
       "  </thead>\n",
       "  <tbody>\n",
       "    <tr>\n",
       "      <th>0</th>\n",
       "      <td>1323913</td>\n",
       "      <td>Jefferson</td>\n",
       "      <td>Charles Casper Stockham</td>\n",
       "    </tr>\n",
       "    <tr>\n",
       "      <th>1</th>\n",
       "      <td>1005842</td>\n",
       "      <td>Jefferson</td>\n",
       "      <td>Charles Casper Stockham</td>\n",
       "    </tr>\n",
       "    <tr>\n",
       "      <th>2</th>\n",
       "      <td>1880345</td>\n",
       "      <td>Jefferson</td>\n",
       "      <td>Charles Casper Stockham</td>\n",
       "    </tr>\n",
       "    <tr>\n",
       "      <th>3</th>\n",
       "      <td>1600337</td>\n",
       "      <td>Jefferson</td>\n",
       "      <td>Charles Casper Stockham</td>\n",
       "    </tr>\n",
       "    <tr>\n",
       "      <th>4</th>\n",
       "      <td>1835994</td>\n",
       "      <td>Jefferson</td>\n",
       "      <td>Charles Casper Stockham</td>\n",
       "    </tr>\n",
       "  </tbody>\n",
       "</table>\n",
       "</div>"
      ],
      "text/plain": [
       "   Ballot ID     County                Candidate\n",
       "0    1323913  Jefferson  Charles Casper Stockham\n",
       "1    1005842  Jefferson  Charles Casper Stockham\n",
       "2    1880345  Jefferson  Charles Casper Stockham\n",
       "3    1600337  Jefferson  Charles Casper Stockham\n",
       "4    1835994  Jefferson  Charles Casper Stockham"
      ]
     },
     "execution_count": 4,
     "metadata": {},
     "output_type": "execute_result"
    }
   ],
   "source": [
    "df = pd.DataFrame(voting_data)\n",
    "df.head()\n"
   ]
  },
  {
   "cell_type": "markdown",
   "id": "725a787b",
   "metadata": {},
   "source": [
    "##### \"Four day work week\" ballot measure"
   ]
  },
  {
   "cell_type": "code",
   "execution_count": 5,
   "id": "68ddacec",
   "metadata": {},
   "outputs": [
    {
     "name": "stdout",
     "output_type": "stream",
     "text": [
      "369711\n"
     ]
    }
   ],
   "source": [
    "four_day_workweek = []\n",
    "\n",
    "for i in range(len(voting_data)):\n",
    "    i = random.randint(0,1)\n",
    "    four_day_workweek.append(i)\n",
    "    \n",
    "print(len(four_day_workweek))"
   ]
  },
  {
   "cell_type": "code",
   "execution_count": 6,
   "id": "f48b6e34",
   "metadata": {},
   "outputs": [
    {
     "name": "stdout",
     "output_type": "stream",
     "text": [
      "369711\n"
     ]
    }
   ],
   "source": [
    "print(len(df))"
   ]
  },
  {
   "cell_type": "code",
   "execution_count": 7,
   "id": "b5476ef3",
   "metadata": {},
   "outputs": [
    {
     "name": "stdout",
     "output_type": "stream",
     "text": [
      "[0, 0, 0, 1, 1, 0, 1, 1, 0, 1]\n"
     ]
    }
   ],
   "source": [
    "print(four_day_workweek[:10])"
   ]
  },
  {
   "cell_type": "code",
   "execution_count": 8,
   "id": "e11eaf0e",
   "metadata": {},
   "outputs": [],
   "source": [
    "# append list to votes in new varible\n",
    "new_df = df\n",
    "new_df[\"Four Day Work Week\"] = four_day_workweek"
   ]
  },
  {
   "cell_type": "code",
   "execution_count": 9,
   "id": "567d4943",
   "metadata": {},
   "outputs": [
    {
     "data": {
      "text/html": [
       "<div>\n",
       "<style scoped>\n",
       "    .dataframe tbody tr th:only-of-type {\n",
       "        vertical-align: middle;\n",
       "    }\n",
       "\n",
       "    .dataframe tbody tr th {\n",
       "        vertical-align: top;\n",
       "    }\n",
       "\n",
       "    .dataframe thead th {\n",
       "        text-align: right;\n",
       "    }\n",
       "</style>\n",
       "<table border=\"1\" class=\"dataframe\">\n",
       "  <thead>\n",
       "    <tr style=\"text-align: right;\">\n",
       "      <th></th>\n",
       "      <th>Ballot ID</th>\n",
       "      <th>County</th>\n",
       "      <th>Candidate</th>\n",
       "      <th>Four Day Work Week</th>\n",
       "    </tr>\n",
       "  </thead>\n",
       "  <tbody>\n",
       "    <tr>\n",
       "      <th>0</th>\n",
       "      <td>1323913</td>\n",
       "      <td>Jefferson</td>\n",
       "      <td>Charles Casper Stockham</td>\n",
       "      <td>0</td>\n",
       "    </tr>\n",
       "    <tr>\n",
       "      <th>1</th>\n",
       "      <td>1005842</td>\n",
       "      <td>Jefferson</td>\n",
       "      <td>Charles Casper Stockham</td>\n",
       "      <td>0</td>\n",
       "    </tr>\n",
       "    <tr>\n",
       "      <th>2</th>\n",
       "      <td>1880345</td>\n",
       "      <td>Jefferson</td>\n",
       "      <td>Charles Casper Stockham</td>\n",
       "      <td>0</td>\n",
       "    </tr>\n",
       "    <tr>\n",
       "      <th>3</th>\n",
       "      <td>1600337</td>\n",
       "      <td>Jefferson</td>\n",
       "      <td>Charles Casper Stockham</td>\n",
       "      <td>1</td>\n",
       "    </tr>\n",
       "    <tr>\n",
       "      <th>4</th>\n",
       "      <td>1835994</td>\n",
       "      <td>Jefferson</td>\n",
       "      <td>Charles Casper Stockham</td>\n",
       "      <td>1</td>\n",
       "    </tr>\n",
       "  </tbody>\n",
       "</table>\n",
       "</div>"
      ],
      "text/plain": [
       "   Ballot ID     County                Candidate  Four Day Work Week\n",
       "0    1323913  Jefferson  Charles Casper Stockham                   0\n",
       "1    1005842  Jefferson  Charles Casper Stockham                   0\n",
       "2    1880345  Jefferson  Charles Casper Stockham                   0\n",
       "3    1600337  Jefferson  Charles Casper Stockham                   1\n",
       "4    1835994  Jefferson  Charles Casper Stockham                   1"
      ]
     },
     "execution_count": 9,
     "metadata": {},
     "output_type": "execute_result"
    }
   ],
   "source": [
    "new_df.head()"
   ]
  },
  {
   "cell_type": "markdown",
   "id": "65202ea8",
   "metadata": {},
   "source": [
    "###### \"Add HOA\" ballot measure"
   ]
  },
  {
   "cell_type": "code",
   "execution_count": 10,
   "id": "39cbe7b9",
   "metadata": {},
   "outputs": [
    {
     "name": "stdout",
     "output_type": "stream",
     "text": [
      "369711\n"
     ]
    }
   ],
   "source": [
    "hoa = []\n",
    "\n",
    "for i in range(len(voting_data)):\n",
    "    i = random.randint(0,1)\n",
    "    hoa.append(i)\n",
    "    \n",
    "print(len(hoa))"
   ]
  },
  {
   "cell_type": "code",
   "execution_count": 11,
   "id": "131f6414",
   "metadata": {},
   "outputs": [],
   "source": [
    "# append list to votes in new varible\n",
    "new_df = df\n",
    "new_df[\"Add HOA\"] = hoa"
   ]
  },
  {
   "cell_type": "code",
   "execution_count": 12,
   "id": "9364c1f4",
   "metadata": {},
   "outputs": [
    {
     "data": {
      "text/html": [
       "<div>\n",
       "<style scoped>\n",
       "    .dataframe tbody tr th:only-of-type {\n",
       "        vertical-align: middle;\n",
       "    }\n",
       "\n",
       "    .dataframe tbody tr th {\n",
       "        vertical-align: top;\n",
       "    }\n",
       "\n",
       "    .dataframe thead th {\n",
       "        text-align: right;\n",
       "    }\n",
       "</style>\n",
       "<table border=\"1\" class=\"dataframe\">\n",
       "  <thead>\n",
       "    <tr style=\"text-align: right;\">\n",
       "      <th></th>\n",
       "      <th>Ballot ID</th>\n",
       "      <th>County</th>\n",
       "      <th>Candidate</th>\n",
       "      <th>Four Day Work Week</th>\n",
       "      <th>Add HOA</th>\n",
       "    </tr>\n",
       "  </thead>\n",
       "  <tbody>\n",
       "    <tr>\n",
       "      <th>0</th>\n",
       "      <td>1323913</td>\n",
       "      <td>Jefferson</td>\n",
       "      <td>Charles Casper Stockham</td>\n",
       "      <td>0</td>\n",
       "      <td>1</td>\n",
       "    </tr>\n",
       "    <tr>\n",
       "      <th>1</th>\n",
       "      <td>1005842</td>\n",
       "      <td>Jefferson</td>\n",
       "      <td>Charles Casper Stockham</td>\n",
       "      <td>0</td>\n",
       "      <td>1</td>\n",
       "    </tr>\n",
       "    <tr>\n",
       "      <th>2</th>\n",
       "      <td>1880345</td>\n",
       "      <td>Jefferson</td>\n",
       "      <td>Charles Casper Stockham</td>\n",
       "      <td>0</td>\n",
       "      <td>1</td>\n",
       "    </tr>\n",
       "    <tr>\n",
       "      <th>3</th>\n",
       "      <td>1600337</td>\n",
       "      <td>Jefferson</td>\n",
       "      <td>Charles Casper Stockham</td>\n",
       "      <td>1</td>\n",
       "      <td>0</td>\n",
       "    </tr>\n",
       "    <tr>\n",
       "      <th>4</th>\n",
       "      <td>1835994</td>\n",
       "      <td>Jefferson</td>\n",
       "      <td>Charles Casper Stockham</td>\n",
       "      <td>1</td>\n",
       "      <td>0</td>\n",
       "    </tr>\n",
       "  </tbody>\n",
       "</table>\n",
       "</div>"
      ],
      "text/plain": [
       "   Ballot ID     County                Candidate  Four Day Work Week  Add HOA\n",
       "0    1323913  Jefferson  Charles Casper Stockham                   0        1\n",
       "1    1005842  Jefferson  Charles Casper Stockham                   0        1\n",
       "2    1880345  Jefferson  Charles Casper Stockham                   0        1\n",
       "3    1600337  Jefferson  Charles Casper Stockham                   1        0\n",
       "4    1835994  Jefferson  Charles Casper Stockham                   1        0"
      ]
     },
     "execution_count": 12,
     "metadata": {},
     "output_type": "execute_result"
    }
   ],
   "source": [
    "new_df.head()"
   ]
  },
  {
   "cell_type": "code",
   "execution_count": 13,
   "id": "cf4ea4dc",
   "metadata": {},
   "outputs": [],
   "source": [
    "#output new voting data to a csv file\n",
    "new_df.to_csv(\"./Resources/votes_with_ballot_measures.csv\", index=False)"
   ]
  },
  {
   "cell_type": "markdown",
   "id": "91992715",
   "metadata": {},
   "source": [
    "# Function Practice"
   ]
  },
  {
   "cell_type": "code",
   "execution_count": 14,
   "id": "a71fd36a",
   "metadata": {},
   "outputs": [
    {
     "name": "stdout",
     "output_type": "stream",
     "text": [
      "[1, 0, 0, 0]\n"
     ]
    }
   ],
   "source": [
    "# PRACTICE CELL\n",
    "\n",
    "# adding random values to a list\n",
    "votes = ['True', 'False','False', 'True']\n",
    "new_list = []\n",
    "\n",
    "# for i in range(len(votes)):\n",
    "#     print(i)\n",
    "\n",
    "# for i in range(len(votes)):\n",
    "#     i = random.randint(0,1)\n",
    "#     print(i)\n",
    "    \n",
    "for i in range(len(votes)):\n",
    "    i = random.randint(0,1)\n",
    "    new_list.append(i)\n",
    "print(new_list)"
   ]
  },
  {
   "cell_type": "code",
   "execution_count": 15,
   "id": "b41f2648",
   "metadata": {},
   "outputs": [],
   "source": [
    "# PRACTICE CELL\n",
    "\n",
    "voting_topics = []\n",
    "\n",
    "pink_votes = ['True', 'False','False', 'True']\n",
    "green_votes = ['False','True','False', 'True']\n",
    "\n",
    "\n",
    "new_pink_votes = []\n",
    "\n",
    "for i in range(len(pink_votes)):\n",
    "#     print(pink_votes[i])\n",
    "    color_vote = pink_votes\n",
    "    new_pink_votes.append(pink_votes[i])\n",
    "\n",
    "voting_topics.append(new_pink_votes)"
   ]
  },
  {
   "cell_type": "code",
   "execution_count": 16,
   "id": "237c060a",
   "metadata": {},
   "outputs": [
    {
     "name": "stdout",
     "output_type": "stream",
     "text": [
      "['True', 'False', 'False', 'True']\n",
      "[['True', 'False', 'False', 'True']]\n"
     ]
    }
   ],
   "source": [
    "print(new_pink_votes)\n",
    "print(voting_topics)"
   ]
  },
  {
   "cell_type": "code",
   "execution_count": 17,
   "id": "e92248f8",
   "metadata": {},
   "outputs": [],
   "source": [
    "# PRACTICE CELL\n",
    "\n",
    "voting_topics = []\n",
    "\n",
    "\n",
    "pink_votes = ['True', 'False','False', 'True']\n",
    "green_votes = ['False','True','False', 'True']\n",
    "\n",
    "\n",
    "def color(votes):\n",
    "    \n",
    "    color_name = \"\"\n",
    "    color_votes = []\n",
    "\n",
    "    for i in range(len(votes)):\n",
    "    #     print(pink_votes[i])\n",
    "        color_votes.append(votes[i])\n",
    "    \n",
    "    voting_topics.append(color_votes)"
   ]
  },
  {
   "cell_type": "code",
   "execution_count": 18,
   "id": "720b3c54",
   "metadata": {},
   "outputs": [
    {
     "name": "stdout",
     "output_type": "stream",
     "text": [
      "[['True', 'False', 'False', 'True'], ['False', 'True', 'False', 'True']]\n"
     ]
    }
   ],
   "source": [
    "color(pink_votes)\n",
    "color(green_votes)\n",
    "\n",
    "print(voting_topics)"
   ]
  },
  {
   "cell_type": "markdown",
   "id": "43a448a3",
   "metadata": {},
   "source": [
    "## Working Through Scenario"
   ]
  },
  {
   "cell_type": "code",
   "execution_count": 19,
   "id": "3f8cc3ff",
   "metadata": {},
   "outputs": [],
   "source": [
    "file_path = os.path.join('.','Resources','votes_with_ballot_measures.csv')"
   ]
  },
  {
   "cell_type": "code",
   "execution_count": 20,
   "id": "2f483ea7",
   "metadata": {},
   "outputs": [],
   "source": [
    "ballot_voting_data = pd.read_csv(file_path)"
   ]
  },
  {
   "cell_type": "code",
   "execution_count": 21,
   "id": "a0e3a38f",
   "metadata": {},
   "outputs": [],
   "source": [
    "# with open(file_path) as new_election_data:\n",
    "#     reader = csv.reader(election_data)\n",
    "#     column_names = next(reader)  # Reads the first line, which contains the header\n",
    "#     data = {col: [] for col in column_names}\n",
    "#     for row in reader:\n",
    "#         for key, value in zip(column_names, row):\n",
    "#             data[key].append(value)"
   ]
  },
  {
   "cell_type": "code",
   "execution_count": null,
   "id": "3a963f8d",
   "metadata": {},
   "outputs": [],
   "source": []
  }
 ],
 "metadata": {
  "kernelspec": {
   "display_name": "Python 3 (ipykernel)",
   "language": "python",
   "name": "python3"
  },
  "language_info": {
   "codemirror_mode": {
    "name": "ipython",
    "version": 3
   },
   "file_extension": ".py",
   "mimetype": "text/x-python",
   "name": "python",
   "nbconvert_exporter": "python",
   "pygments_lexer": "ipython3",
   "version": "3.9.12"
  },
  "vscode": {
   "interpreter": {
    "hash": "0b0ccf232647abf194c992f3901ec36ca50adf5de9fd4200533a76747d55272b"
   }
  }
 },
 "nbformat": 4,
 "nbformat_minor": 5
}
