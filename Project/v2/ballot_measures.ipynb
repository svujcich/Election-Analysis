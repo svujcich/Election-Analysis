{
 "cells": [
  {
   "cell_type": "markdown",
   "id": "984f7e3e",
   "metadata": {},
   "source": [
    "# Ballot Measure Data\n",
    "##### using pandas and random libaries to simulate ballot measure votes "
   ]
  },
  {
   "cell_type": "code",
   "execution_count": 1,
   "id": "3a3e676f",
   "metadata": {},
   "outputs": [],
   "source": [
    "#imports\n",
    "import os\n",
    "import pandas as pd\n",
    "import random"
   ]
  },
  {
   "cell_type": "code",
   "execution_count": 2,
   "id": "53fae0bc",
   "metadata": {},
   "outputs": [],
   "source": [
    "file_path = os.path.join('.','Resources','votes.csv')"
   ]
  },
  {
   "cell_type": "code",
   "execution_count": 3,
   "id": "ffa97843",
   "metadata": {},
   "outputs": [],
   "source": [
    "voting_data = pd.read_csv(file_path)"
   ]
  },
  {
   "cell_type": "code",
   "execution_count": 4,
   "id": "be87e2dd",
   "metadata": {},
   "outputs": [
    {
     "data": {
      "text/html": [
       "<div>\n",
       "<style scoped>\n",
       "    .dataframe tbody tr th:only-of-type {\n",
       "        vertical-align: middle;\n",
       "    }\n",
       "\n",
       "    .dataframe tbody tr th {\n",
       "        vertical-align: top;\n",
       "    }\n",
       "\n",
       "    .dataframe thead th {\n",
       "        text-align: right;\n",
       "    }\n",
       "</style>\n",
       "<table border=\"1\" class=\"dataframe\">\n",
       "  <thead>\n",
       "    <tr style=\"text-align: right;\">\n",
       "      <th></th>\n",
       "      <th>Ballot ID</th>\n",
       "      <th>County</th>\n",
       "      <th>Candidate</th>\n",
       "    </tr>\n",
       "  </thead>\n",
       "  <tbody>\n",
       "    <tr>\n",
       "      <th>0</th>\n",
       "      <td>1323913</td>\n",
       "      <td>Jefferson</td>\n",
       "      <td>Charles Casper Stockham</td>\n",
       "    </tr>\n",
       "    <tr>\n",
       "      <th>1</th>\n",
       "      <td>1005842</td>\n",
       "      <td>Jefferson</td>\n",
       "      <td>Charles Casper Stockham</td>\n",
       "    </tr>\n",
       "    <tr>\n",
       "      <th>2</th>\n",
       "      <td>1880345</td>\n",
       "      <td>Jefferson</td>\n",
       "      <td>Charles Casper Stockham</td>\n",
       "    </tr>\n",
       "    <tr>\n",
       "      <th>3</th>\n",
       "      <td>1600337</td>\n",
       "      <td>Jefferson</td>\n",
       "      <td>Charles Casper Stockham</td>\n",
       "    </tr>\n",
       "    <tr>\n",
       "      <th>4</th>\n",
       "      <td>1835994</td>\n",
       "      <td>Jefferson</td>\n",
       "      <td>Charles Casper Stockham</td>\n",
       "    </tr>\n",
       "  </tbody>\n",
       "</table>\n",
       "</div>"
      ],
      "text/plain": [
       "   Ballot ID     County                Candidate\n",
       "0    1323913  Jefferson  Charles Casper Stockham\n",
       "1    1005842  Jefferson  Charles Casper Stockham\n",
       "2    1880345  Jefferson  Charles Casper Stockham\n",
       "3    1600337  Jefferson  Charles Casper Stockham\n",
       "4    1835994  Jefferson  Charles Casper Stockham"
      ]
     },
     "execution_count": 4,
     "metadata": {},
     "output_type": "execute_result"
    }
   ],
   "source": [
    "df = pd.DataFrame(voting_data)\n",
    "df.head()\n"
   ]
  },
  {
   "cell_type": "code",
   "execution_count": 5,
   "id": "9d79a3a5",
   "metadata": {},
   "outputs": [],
   "source": [
    "#ballot topics\n",
    "four_day_workweek = []\n",
    "hoa = []\n",
    "\n",
    "#ballot topics dictionary\n",
    "ballot_topics = [\n",
    "    {\"topic\": \"Four Day Work Week\", \"value\": four_day_workweek},\n",
    "    {\"topic\": \"Add HOA\", \"value\": hoa}   \n",
    "]"
   ]
  },
  {
   "cell_type": "code",
   "execution_count": 6,
   "id": "01217a15",
   "metadata": {},
   "outputs": [],
   "source": [
    "#create function to append random vote for each row of data\n",
    "def get_measure(topic):\n",
    "    for i in range(len(voting_data)):\n",
    "        i = bool(random.randint(0,1))\n",
    "        \n",
    "        #add vote to topic list\n",
    "        topic.append(i) "
   ]
  },
  {
   "cell_type": "code",
   "execution_count": 7,
   "id": "a4660c2e",
   "metadata": {},
   "outputs": [],
   "source": [
    "#call function\n",
    "get_measure(four_day_workweek)\n",
    "get_measure(hoa)"
   ]
  },
  {
   "cell_type": "code",
   "execution_count": 8,
   "id": "f48b6e34",
   "metadata": {},
   "outputs": [
    {
     "name": "stdout",
     "output_type": "stream",
     "text": [
      "369711\n",
      "369711\n",
      "369711\n"
     ]
    }
   ],
   "source": [
    "#validate length\n",
    "print(len(df))\n",
    "print(len(four_day_workweek))\n",
    "print(len(hoa))"
   ]
  },
  {
   "cell_type": "code",
   "execution_count": 9,
   "id": "b5476ef3",
   "metadata": {},
   "outputs": [
    {
     "name": "stdout",
     "output_type": "stream",
     "text": [
      "[False, False, True, False, True, False, False, True, False, False]\n"
     ]
    }
   ],
   "source": [
    "#validate values\n",
    "print(four_day_workweek[:10])"
   ]
  },
  {
   "cell_type": "code",
   "execution_count": 10,
   "id": "e11eaf0e",
   "metadata": {},
   "outputs": [],
   "source": [
    "# create a copy of the df \n",
    "new_df = df\n",
    "\n",
    "# append list to votes in df copy\n",
    "for i in ballot_topics:\n",
    "    # print(i[\"topic\"])\n",
    "    new_df[i[\"topic\"]] = i[\"value\"]"
   ]
  },
  {
   "cell_type": "code",
   "execution_count": 11,
   "id": "567d4943",
   "metadata": {
    "scrolled": true
   },
   "outputs": [
    {
     "data": {
      "text/html": [
       "<div>\n",
       "<style scoped>\n",
       "    .dataframe tbody tr th:only-of-type {\n",
       "        vertical-align: middle;\n",
       "    }\n",
       "\n",
       "    .dataframe tbody tr th {\n",
       "        vertical-align: top;\n",
       "    }\n",
       "\n",
       "    .dataframe thead th {\n",
       "        text-align: right;\n",
       "    }\n",
       "</style>\n",
       "<table border=\"1\" class=\"dataframe\">\n",
       "  <thead>\n",
       "    <tr style=\"text-align: right;\">\n",
       "      <th></th>\n",
       "      <th>Ballot ID</th>\n",
       "      <th>County</th>\n",
       "      <th>Candidate</th>\n",
       "      <th>Four Day Work Week</th>\n",
       "      <th>Add HOA</th>\n",
       "    </tr>\n",
       "  </thead>\n",
       "  <tbody>\n",
       "    <tr>\n",
       "      <th>0</th>\n",
       "      <td>1323913</td>\n",
       "      <td>Jefferson</td>\n",
       "      <td>Charles Casper Stockham</td>\n",
       "      <td>False</td>\n",
       "      <td>False</td>\n",
       "    </tr>\n",
       "    <tr>\n",
       "      <th>1</th>\n",
       "      <td>1005842</td>\n",
       "      <td>Jefferson</td>\n",
       "      <td>Charles Casper Stockham</td>\n",
       "      <td>False</td>\n",
       "      <td>True</td>\n",
       "    </tr>\n",
       "    <tr>\n",
       "      <th>2</th>\n",
       "      <td>1880345</td>\n",
       "      <td>Jefferson</td>\n",
       "      <td>Charles Casper Stockham</td>\n",
       "      <td>True</td>\n",
       "      <td>False</td>\n",
       "    </tr>\n",
       "    <tr>\n",
       "      <th>3</th>\n",
       "      <td>1600337</td>\n",
       "      <td>Jefferson</td>\n",
       "      <td>Charles Casper Stockham</td>\n",
       "      <td>False</td>\n",
       "      <td>True</td>\n",
       "    </tr>\n",
       "    <tr>\n",
       "      <th>4</th>\n",
       "      <td>1835994</td>\n",
       "      <td>Jefferson</td>\n",
       "      <td>Charles Casper Stockham</td>\n",
       "      <td>True</td>\n",
       "      <td>True</td>\n",
       "    </tr>\n",
       "  </tbody>\n",
       "</table>\n",
       "</div>"
      ],
      "text/plain": [
       "   Ballot ID     County                Candidate  Four Day Work Week  Add HOA\n",
       "0    1323913  Jefferson  Charles Casper Stockham               False    False\n",
       "1    1005842  Jefferson  Charles Casper Stockham               False     True\n",
       "2    1880345  Jefferson  Charles Casper Stockham                True    False\n",
       "3    1600337  Jefferson  Charles Casper Stockham               False     True\n",
       "4    1835994  Jefferson  Charles Casper Stockham                True     True"
      ]
     },
     "execution_count": 11,
     "metadata": {},
     "output_type": "execute_result"
    }
   ],
   "source": [
    "new_df.head()"
   ]
  },
  {
   "cell_type": "code",
   "execution_count": 12,
   "id": "cf4ea4dc",
   "metadata": {},
   "outputs": [],
   "source": [
    "#output new voting data to a csv file\n",
    "new_df.to_csv(\"./Resources/votes_with_ballot_measures.csv\", index=False)"
   ]
  }
 ],
 "metadata": {
  "kernelspec": {
   "display_name": "Python 3 (ipykernel)",
   "language": "python",
   "name": "python3"
  },
  "language_info": {
   "codemirror_mode": {
    "name": "ipython",
    "version": 3
   },
   "file_extension": ".py",
   "mimetype": "text/x-python",
   "name": "python",
   "nbconvert_exporter": "python",
   "pygments_lexer": "ipython3",
   "version": "3.9.12"
  },
  "vscode": {
   "interpreter": {
    "hash": "0b0ccf232647abf194c992f3901ec36ca50adf5de9fd4200533a76747d55272b"
   }
  }
 },
 "nbformat": 4,
 "nbformat_minor": 5
}
