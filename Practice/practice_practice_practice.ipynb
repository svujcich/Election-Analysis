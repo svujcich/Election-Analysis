{
 "cells": [
  {
   "cell_type": "code",
   "execution_count": 1,
   "id": "31a39738",
   "metadata": {},
   "outputs": [],
   "source": [
    "# PRACTICE CELL\n",
    "\n",
    "voting_topics = []\n",
    "\n",
    "pink_votes = ['True', 'False','False', 'True']\n",
    "green_votes = ['False','True','False', 'True']\n",
    "\n",
    "\n",
    "new_pink_votes = []\n",
    "\n",
    "for i in range(len(pink_votes)):\n",
    "#     print(pink_votes[i])\n",
    "    color_vote = pink_votes\n",
    "    new_pink_votes.append(pink_votes[i])\n",
    "\n",
    "voting_topics.append(new_pink_votes)"
   ]
  },
  {
   "cell_type": "code",
   "execution_count": 2,
   "id": "a30b6fa3",
   "metadata": {},
   "outputs": [
    {
     "name": "stdout",
     "output_type": "stream",
     "text": [
      "['True', 'False', 'False', 'True']\n",
      "[['True', 'False', 'False', 'True']]\n"
     ]
    }
   ],
   "source": [
    "print(new_pink_votes)\n",
    "print(voting_topics)"
   ]
  },
  {
   "cell_type": "code",
   "execution_count": 3,
   "id": "de53f766",
   "metadata": {},
   "outputs": [],
   "source": [
    "# PRACTICE CELL\n",
    "\n",
    "voting_topics = []\n",
    "\n",
    "\n",
    "pink_votes = ['True', 'False','False', 'True']\n",
    "green_votes = ['False','True','False', 'True']\n",
    "\n",
    "\n",
    "def color(votes):\n",
    "    \n",
    "    color_name = \"\"\n",
    "    color_votes = []\n",
    "\n",
    "    for i in range(len(votes)):\n",
    "    #     print(pink_votes[i])\n",
    "        color_votes.append(votes[i])\n",
    "    \n",
    "    voting_topics.append(color_votes)"
   ]
  },
  {
   "cell_type": "code",
   "execution_count": 4,
   "id": "968ea8ce",
   "metadata": {},
   "outputs": [],
   "source": [
    "# PRACTICE CELL\n",
    "\n",
    "voting_topics = []\n",
    "\n",
    "\n",
    "pink_votes = ['True', 'False','False', 'True']\n",
    "green_votes = ['False','True','False', 'True']\n",
    "\n",
    "\n",
    "def color(votes):\n",
    "    \n",
    "    color_name = \"\"\n",
    "    color_votes = []\n",
    "\n",
    "    for i in range(len(votes)):\n",
    "        print(pink_votes[i])\n",
    "        color_votes.append(votes[i])\n",
    "    \n",
    "    voting_topics.append(color_votes)"
   ]
  },
  {
   "cell_type": "code",
   "execution_count": 5,
   "id": "13495b49",
   "metadata": {},
   "outputs": [
    {
     "name": "stdout",
     "output_type": "stream",
     "text": [
      "True\n",
      "False\n",
      "False\n",
      "True\n"
     ]
    }
   ],
   "source": [
    "color(pink_votes)color(pink_votes)\n",
    "color(green_votes)\n",
    "\n",
    "print(voting_topics)"
   ]
  },
  {
   "cell_type": "code",
   "execution_count": 6,
   "id": "8445d56b",
   "metadata": {},
   "outputs": [],
   "source": [
    "person = \"Santa\"\n",
    "reindeer = [\"Dasher\", \"Dancer\", \"Prancer\", \"Vixen\"]"
   ]
  },
  {
   "cell_type": "code",
   "execution_count": 7,
   "id": "2f8cbb97",
   "metadata": {},
   "outputs": [
    {
     "data": {
      "text/plain": [
       "list"
      ]
     },
     "execution_count": 7,
     "metadata": {},
     "output_type": "execute_result"
    }
   ],
   "source": [
    "type(reindeer)"
   ]
  },
  {
   "cell_type": "code",
   "execution_count": null,
   "id": "39554299",
   "metadata": {},
   "outputs": [],
   "source": [
    "test1 = []\n",
    "test2 = []\n",
    "test3 = []\n",
    "\n",
    "def test_function(test):\n",
    "    for i in range(len(voting_data)):\n",
    "        i = bool(random.randint(0,1))\n",
    "        test.append(i)"
   ]
  },
  {
   "cell_type": "code",
   "execution_count": null,
   "id": "b850c2a4",
   "metadata": {},
   "outputs": [],
   "source": [
    "test_function(test1)\n",
    "test_function(test2)\n",
    "test_function(test3)"
   ]
  },
  {
   "cell_type": "code",
   "execution_count": null,
   "id": "231f0fb8",
   "metadata": {},
   "outputs": [],
   "source": [
    "print(len(test1))\n",
    "print(len(test2))\n",
    "print(test1[:10])"
   ]
  },
  {
   "cell_type": "code",
   "execution_count": null,
   "id": "9f8e0f48",
   "metadata": {},
   "outputs": [],
   "source": [
    "# #Javascript\n",
    "# let list = []\n",
    "\n",
    "# for(i=0; i < list.length; i++) = {\n",
    "#     if (i == \"true\") {\n",
    "#         print(\"true\")\n",
    "#     } else {\n",
    "#         print(\"false\")\n",
    "#     }\n",
    "# }; \n",
    "\n",
    "\n",
    "# #python\n",
    "# list = []\n",
    "# for i in list:\n",
    "#     if i ==\"true\"\n",
    "#         print(\"true\")\n",
    "#     else:\n",
    "#         print(\"false\")"
   ]
  },
  {
   "cell_type": "markdown",
   "id": "da4544bc",
   "metadata": {},
   "source": [
    "## Ballot Options"
   ]
  },
  {
   "cell_type": "code",
   "execution_count": 43,
   "id": "d308c9a2",
   "metadata": {},
   "outputs": [],
   "source": [
    "#ballot topics\n",
    "work_week = \"\"\n",
    "hoa = \"\"\n",
    "\n",
    "#master data\n",
    "ballot_topics = []\n",
    "#     [{\"topic\": \"four_day_work_week\", \"column\": work_week, \"votes\":{}},\n",
    "#     {\"topic\": \"hoa\", \"column\": hoa, \"votes\":{}}    \n",
    "# ]\n",
    "\n",
    "topics = []\n",
    "\n",
    "#coulmn names in snake case original format\n",
    "list_column_names = ['Ballot ID', 'County', 'Candidate', 'Four Day Work Week', 'Add HOA']\n",
    "sc_column_names = ['ballot_id', 'county', 'candidate', 'four_day_work_week', 'hoa']\n",
    "ballot_columns = ['four_day_work_week', 'hoa']"
   ]
  },
  {
   "cell_type": "code",
   "execution_count": 44,
   "id": "457e6c25",
   "metadata": {},
   "outputs": [
    {
     "name": "stdout",
     "output_type": "stream",
     "text": [
      "[{'topic': 'four_day_work_week', 'column': 'row[3]', 'votes': {}}, {'topic': 'hoa', 'column': 'row[4]', 'votes': {}}]\n"
     ]
    }
   ],
   "source": [
    "for index, col in enumerate(sc_column_names):\n",
    "    if col not in ballot_columns:\n",
    "        pass\n",
    "    if col in ballot_columns:\n",
    "        ballot_topics.append({\"topic\": str(col), \"column\": f\"row[{index}]\", \"votes\":{}})\n",
    "print(ballot_topics)\n",
    "    \n",
    "    \n",
    "# print(index,col)\n",
    "# 0 ballot_id\n",
    "# 1 county\n",
    "# 2 candidate\n",
    "# 3 four_day_work_week\n",
    "# 4 hoa    \n",
    "    "
   ]
  },
  {
   "cell_type": "code",
   "execution_count": null,
   "id": "ee4ca3ac",
   "metadata": {},
   "outputs": [],
   "source": [
    "ballot_measure_options = []\n",
    "\n",
    "\n",
    "#make a list of column Names\n",
    "list_column_names = []\n",
    "\n",
    "\n",
    "# Read the csv and convert it into a list of dictionaries\n",
    "with open(file_to_load) as election_data:\n",
    "    reader = csv.reader(election_data) #delimiter=','\n",
    "    # print(reader)\n",
    "        \n",
    "    # add names of columns to list \n",
    "    for row in reader:\n",
    "        list_column_names.append(row)\n",
    "        break    \n",
    "    #extract list in list\n",
    "    list_column_names = list_column_names[0]\n",
    "    # print(list_column_names)\n",
    "\n",
    "    #get key and value of items in list_column_names\n",
    "    # print(list(enumerate(list_column_names)))\n",
    "#     # add ballot measure names to list\n",
    "    for index, col in enumerate(list_column_names):\n",
    "        if col == \"Ballot ID\":\n",
    "            pass\n",
    "        elif col == \"County\":\n",
    "            pass\n",
    "        elif col == \"Candidate\":\n",
    "            pass         \n",
    "        else:\n",
    "            ballot_measure_options.append({index, col})\n",
    "    # print(ballot_measure_options)"
   ]
  }
 ],
 "metadata": {
  "kernelspec": {
   "display_name": "Python 3 (ipykernel)",
   "language": "python",
   "name": "python3"
  },
  "language_info": {
   "codemirror_mode": {
    "name": "ipython",
    "version": 3
   },
   "file_extension": ".py",
   "mimetype": "text/x-python",
   "name": "python",
   "nbconvert_exporter": "python",
   "pygments_lexer": "ipython3",
   "version": "3.9.12"
  }
 },
 "nbformat": 4,
 "nbformat_minor": 5
}
