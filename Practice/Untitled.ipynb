{
 "cells": [
  {
   "cell_type": "code",
   "execution_count": 1,
   "id": "31a39738",
   "metadata": {},
   "outputs": [],
   "source": [
    "# PRACTICE CELL\n",
    "\n",
    "voting_topics = []\n",
    "\n",
    "pink_votes = ['True', 'False','False', 'True']\n",
    "green_votes = ['False','True','False', 'True']\n",
    "\n",
    "\n",
    "new_pink_votes = []\n",
    "\n",
    "for i in range(len(pink_votes)):\n",
    "#     print(pink_votes[i])\n",
    "    color_vote = pink_votes\n",
    "    new_pink_votes.append(pink_votes[i])\n",
    "\n",
    "voting_topics.append(new_pink_votes)"
   ]
  },
  {
   "cell_type": "code",
   "execution_count": 2,
   "id": "a30b6fa3",
   "metadata": {},
   "outputs": [
    {
     "name": "stdout",
     "output_type": "stream",
     "text": [
      "['True', 'False', 'False', 'True']\n",
      "[['True', 'False', 'False', 'True']]\n"
     ]
    }
   ],
   "source": [
    "print(new_pink_votes)\n",
    "print(voting_topics)"
   ]
  },
  {
   "cell_type": "code",
   "execution_count": 3,
   "id": "de53f766",
   "metadata": {},
   "outputs": [],
   "source": [
    "# PRACTICE CELL\n",
    "\n",
    "voting_topics = []\n",
    "\n",
    "\n",
    "pink_votes = ['True', 'False','False', 'True']\n",
    "green_votes = ['False','True','False', 'True']\n",
    "\n",
    "\n",
    "def color(votes):\n",
    "    \n",
    "    color_name = \"\"\n",
    "    color_votes = []\n",
    "\n",
    "    for i in range(len(votes)):\n",
    "    #     print(pink_votes[i])\n",
    "        color_votes.append(votes[i])\n",
    "    \n",
    "    voting_topics.append(color_votes)"
   ]
  },
  {
   "cell_type": "code",
   "execution_count": 21,
   "id": "968ea8ce",
   "metadata": {},
   "outputs": [],
   "source": [
    "# PRACTICE CELL\n",
    "\n",
    "voting_topics = []\n",
    "\n",
    "\n",
    "pink_votes = ['True', 'False','False', 'True']\n",
    "green_votes = ['False','True','False', 'True']\n",
    "\n",
    "\n",
    "def color(votes):\n",
    "    \n",
    "    color_name = \"\"\n",
    "    color_votes = []\n",
    "\n",
    "    for i in range(len(votes)):\n",
    "        print(pink_votes[i])\n",
    "        color_votes.append(votes[i])\n",
    "    \n",
    "    voting_topics.append(color_votes)"
   ]
  },
  {
   "cell_type": "code",
   "execution_count": 22,
   "id": "13495b49",
   "metadata": {},
   "outputs": [
    {
     "ename": "AttributeError",
     "evalue": "'list' object has no attribute 'key'",
     "output_type": "error",
     "traceback": [
      "\u001b[1;31m---------------------------------------------------------------------------\u001b[0m",
      "\u001b[1;31mAttributeError\u001b[0m                            Traceback (most recent call last)",
      "Input \u001b[1;32mIn [22]\u001b[0m, in \u001b[0;36m<cell line: 1>\u001b[1;34m()\u001b[0m\n\u001b[1;32m----> 1\u001b[0m \u001b[43mcolor\u001b[49m\u001b[43m(\u001b[49m\u001b[43mpink_votes\u001b[49m\u001b[43m)\u001b[49m\n",
      "Input \u001b[1;32mIn [21]\u001b[0m, in \u001b[0;36mcolor\u001b[1;34m(votes)\u001b[0m\n\u001b[0;32m     13\u001b[0m color_votes \u001b[38;5;241m=\u001b[39m []\n\u001b[0;32m     15\u001b[0m \u001b[38;5;28;01mfor\u001b[39;00m i \u001b[38;5;129;01min\u001b[39;00m \u001b[38;5;28mrange\u001b[39m(\u001b[38;5;28mlen\u001b[39m(votes)):\n\u001b[1;32m---> 16\u001b[0m     \u001b[38;5;28mprint\u001b[39m(\u001b[43mpink_votes\u001b[49m\u001b[38;5;241;43m.\u001b[39;49m\u001b[43mkey\u001b[49m)\n\u001b[0;32m     17\u001b[0m     color_votes\u001b[38;5;241m.\u001b[39mappend(votes[i])\n\u001b[0;32m     19\u001b[0m voting_topics\u001b[38;5;241m.\u001b[39mappend(color_votes)\n",
      "\u001b[1;31mAttributeError\u001b[0m: 'list' object has no attribute 'key'"
     ]
    }
   ],
   "source": [
    "color(pink_votes)"
   ]
  },
  {
   "cell_type": "code",
   "execution_count": 19,
   "id": "8445d56b",
   "metadata": {},
   "outputs": [],
   "source": [
    "person = \"Santa\"\n",
    "reindeer = [\"Dasher\", \"Dancer\", \"Prancer\", \"Vixen\"]"
   ]
  },
  {
   "cell_type": "code",
   "execution_count": 7,
   "id": "2f8cbb97",
   "metadata": {},
   "outputs": [
    {
     "data": {
      "text/plain": [
       "list"
      ]
     },
     "execution_count": 7,
     "metadata": {},
     "output_type": "execute_result"
    }
   ],
   "source": [
    "type(reindeer)"
   ]
  },
  {
   "cell_type": "code",
   "execution_count": 11,
   "id": "bc2b4740",
   "metadata": {},
   "outputs": [],
   "source": [
    "friends = [\n",
    "    {'name': \"Sarah\", 'job': \"programmer\"},\n",
    "    {'name':  \"Nik\", 'job': \"Rabbit Daddy\"}\n",
    "]"
   ]
  },
  {
   "cell_type": "code",
   "execution_count": 16,
   "id": "c04bfb06",
   "metadata": {},
   "outputs": [
    {
     "ename": "AttributeError",
     "evalue": "'list' object has no attribute 'name'",
     "output_type": "error",
     "traceback": [
      "\u001b[1;31m---------------------------------------------------------------------------\u001b[0m",
      "\u001b[1;31mAttributeError\u001b[0m                            Traceback (most recent call last)",
      "Input \u001b[1;32mIn [16]\u001b[0m, in \u001b[0;36m<cell line: 1>\u001b[1;34m()\u001b[0m\n\u001b[1;32m----> 1\u001b[0m \u001b[38;5;28mprint\u001b[39m(\u001b[43mfriends\u001b[49m\u001b[38;5;241;43m.\u001b[39;49m\u001b[43mname\u001b[49m[\u001b[38;5;241m0\u001b[39m](\u001b[38;5;124m'\u001b[39m\u001b[38;5;124mname\u001b[39m\u001b[38;5;124m'\u001b[39m))\n",
      "\u001b[1;31mAttributeError\u001b[0m: 'list' object has no attribute 'name'"
     ]
    }
   ],
   "source": []
  },
  {
   "cell_type": "code",
   "execution_count": null,
   "id": "d308c9a2",
   "metadata": {},
   "outputs": [],
   "source": []
  }
 ],
 "metadata": {
  "kernelspec": {
   "display_name": "Python 3 (ipykernel)",
   "language": "python",
   "name": "python3"
  },
  "language_info": {
   "codemirror_mode": {
    "name": "ipython",
    "version": 3
   },
   "file_extension": ".py",
   "mimetype": "text/x-python",
   "name": "python",
   "nbconvert_exporter": "python",
   "pygments_lexer": "ipython3",
   "version": "3.9.12"
  }
 },
 "nbformat": 4,
 "nbformat_minor": 5
}
